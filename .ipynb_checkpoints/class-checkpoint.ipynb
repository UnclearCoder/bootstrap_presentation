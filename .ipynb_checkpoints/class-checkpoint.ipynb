{
 "cells": [
  {
   "cell_type": "code",
   "execution_count": null,
   "metadata": {
    "slideshow": {
     "slide_type": "slide"
    }
   },
   "outputs": [],
   "source": [
    "import numpy as np\n",
    "import matplotlib.pyplot as plt\n",
    "import pandas as pd\n",
    "from scipy.stats import shapiro"
   ]
  },
  {
   "attachments": {},
   "cell_type": "markdown",
   "metadata": {
    "slideshow": {
     "slide_type": "slide"
    }
   },
   "source": [
    "## helo there"
   ]
  },
  {
   "cell_type": "code",
   "execution_count": null,
   "metadata": {},
   "outputs": [],
   "source": [
    "df = np.array([19,29,29,30,34,36,39,47,51,52,53,60,60,64,66,68,70])\n",
    "print(shapiro(df))"
   ]
  },
  {
   "cell_type": "code",
   "execution_count": null,
   "metadata": {
    "slideshow": {
     "slide_type": "subslide"
    }
   },
   "outputs": [],
   "source": [
    "boot1 = np.random.choice(df, size=17, replace=True)\n",
    "boot2 = np.random.choice(df, size=17, replace=True)\n",
    "boot3 = np.random.choice(df, size=17, replace=True)\n",
    "boot4 = np.random.choice(df, size=17, replace=True)\n",
    "boot5 = np.random.choice(df, size=17, replace=True)\n",
    "boot6 = np.random.choice(df, size=17, replace=True)\n",
    "boot7 = np.random.choice(df, size=17, replace=True)\n",
    "boot8 = np.random.choice(df, size=17, replace=True)\n",
    "boot9 = np.random.choice(df, size=17, replace=True)\n",
    "boot10 = np.random.choice(df, size=17, replace=True)\n",
    "strap = np.array([boot1, boot2, boot3, boot4, boot5, boot6, boot7, boot8, boot9, boot10])"
   ]
  },
  {
   "cell_type": "code",
   "execution_count": null,
   "metadata": {},
   "outputs": [],
   "source": [
    "bootmean = np.array([])\n",
    "for i in strap:\n",
    "    x = np.mean(i)\n",
    "    bootmean = np.append(bootmean, x)\n",
    "bootmean"
   ]
  },
  {
   "cell_type": "code",
   "execution_count": null,
   "metadata": {},
   "outputs": [],
   "source": [
    "np.std(df)"
   ]
  }
 ],
 "metadata": {
  "kernelspec": {
   "display_name": "Python 3.9.13 ('base')",
   "language": "python",
   "name": "python3"
  },
  "language_info": {
   "codemirror_mode": {
    "name": "ipython",
    "version": 3
   },
   "file_extension": ".py",
   "mimetype": "text/x-python",
   "name": "python",
   "nbconvert_exporter": "python",
   "pygments_lexer": "ipython3",
   "version": "3.9.13 (main, Aug 25 2022, 18:29:29) \n[Clang 12.0.0 ]"
  },
  "orig_nbformat": 4,
  "vscode": {
   "interpreter": {
    "hash": "8a38c55139def4184c4c80917ed830c2cafc752c7bf182eee35132bc503168d0"
   }
  }
 },
 "nbformat": 4,
 "nbformat_minor": 2
}
